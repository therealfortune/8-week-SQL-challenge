{
    "metadata": {
        "kernelspec": {
            "name": "SQL",
            "display_name": "SQL",
            "language": "sql"
        },
        "language_info": {
            "name": "sql",
            "version": ""
        }
    },
    "nbformat_minor": 2,
    "nbformat": 4,
    "cells": [
        {
            "cell_type": "code",
            "source": [
                "SELECT TOP 3 * FROM sales ;\r\n",
                "SELECT * FROM members ;\r\n",
                "SELECT * FROM menu "
            ],
            "metadata": {
                "azdata_cell_guid": "b663ba0c-e1ef-49d3-8b69-6223f43bd8e3",
                "language": "sql"
            },
            "outputs": [
                {
                    "output_type": "display_data",
                    "data": {
                        "text/html": "(3 rows affected)"
                    },
                    "metadata": {}
                },
                {
                    "output_type": "display_data",
                    "data": {
                        "text/html": "(2 rows affected)"
                    },
                    "metadata": {}
                },
                {
                    "output_type": "display_data",
                    "data": {
                        "text/html": "(3 rows affected)"
                    },
                    "metadata": {}
                },
                {
                    "output_type": "display_data",
                    "data": {
                        "text/html": "Total execution time: 00:00:00.034"
                    },
                    "metadata": {}
                },
                {
                    "output_type": "execute_result",
                    "metadata": {},
                    "execution_count": 58,
                    "data": {
                        "application/vnd.dataresource+json": {
                            "schema": {
                                "fields": [
                                    {
                                        "name": "customer_id"
                                    },
                                    {
                                        "name": "order_date"
                                    },
                                    {
                                        "name": "product_id"
                                    }
                                ]
                            },
                            "data": [
                                {
                                    "0": "A",
                                    "1": "2021-01-01",
                                    "2": "1"
                                },
                                {
                                    "0": "A",
                                    "1": "2021-01-01",
                                    "2": "2"
                                },
                                {
                                    "0": "A",
                                    "1": "2021-01-07",
                                    "2": "2"
                                }
                            ]
                        },
                        "text/html": [
                            "<table>",
                            "<tr><th>customer_id</th><th>order_date</th><th>product_id</th></tr>",
                            "<tr><td>A</td><td>2021-01-01</td><td>1</td></tr>",
                            "<tr><td>A</td><td>2021-01-01</td><td>2</td></tr>",
                            "<tr><td>A</td><td>2021-01-07</td><td>2</td></tr>",
                            "</table>"
                        ]
                    }
                },
                {
                    "output_type": "execute_result",
                    "metadata": {},
                    "execution_count": 58,
                    "data": {
                        "application/vnd.dataresource+json": {
                            "schema": {
                                "fields": [
                                    {
                                        "name": "customer_id"
                                    },
                                    {
                                        "name": "join_date"
                                    }
                                ]
                            },
                            "data": [
                                {
                                    "0": "A",
                                    "1": "2021-01-07"
                                },
                                {
                                    "0": "B",
                                    "1": "2021-01-09"
                                }
                            ]
                        },
                        "text/html": [
                            "<table>",
                            "<tr><th>customer_id</th><th>join_date</th></tr>",
                            "<tr><td>A</td><td>2021-01-07</td></tr>",
                            "<tr><td>B</td><td>2021-01-09</td></tr>",
                            "</table>"
                        ]
                    }
                },
                {
                    "output_type": "execute_result",
                    "metadata": {},
                    "execution_count": 58,
                    "data": {
                        "application/vnd.dataresource+json": {
                            "schema": {
                                "fields": [
                                    {
                                        "name": "product_id"
                                    },
                                    {
                                        "name": "product_name"
                                    },
                                    {
                                        "name": "price"
                                    }
                                ]
                            },
                            "data": [
                                {
                                    "0": "1",
                                    "1": "sushi",
                                    "2": "10"
                                },
                                {
                                    "0": "2",
                                    "1": "curry",
                                    "2": "15"
                                },
                                {
                                    "0": "3",
                                    "1": "ramen",
                                    "2": "12"
                                }
                            ]
                        },
                        "text/html": [
                            "<table>",
                            "<tr><th>product_id</th><th>product_name</th><th>price</th></tr>",
                            "<tr><td>1</td><td>sushi</td><td>10</td></tr>",
                            "<tr><td>2</td><td>curry</td><td>15</td></tr>",
                            "<tr><td>3</td><td>ramen</td><td>12</td></tr>",
                            "</table>"
                        ]
                    }
                }
            ],
            "execution_count": 58
        },
        {
            "cell_type": "markdown",
            "source": [
                "**1\\. What is the total amount each customer spent at the restaurant?**"
            ],
            "metadata": {
                "azdata_cell_guid": "51cdefa9-22cd-4e81-a518-58da0953e867"
            },
            "attachments": {}
        },
        {
            "cell_type": "code",
            "source": [
                "SELECT s.customer_id, SUM(m.price) AS Product_price\r\n",
                "FROM sales s \r\n",
                "JOIN menu m \r\n",
                "    ON s.product_id = m.product_id\r\n",
                "GROUP BY customer_id\r\n",
                ""
            ],
            "metadata": {
                "azdata_cell_guid": "cc2f1d17-fa3d-4bb0-a5e2-2d0ecca70f08",
                "language": "sql",
                "tags": [
                    "hide_input"
                ]
            },
            "outputs": [
                {
                    "output_type": "display_data",
                    "data": {
                        "text/html": "(3 rows affected)"
                    },
                    "metadata": {}
                },
                {
                    "output_type": "display_data",
                    "data": {
                        "text/html": "Total execution time: 00:00:00.019"
                    },
                    "metadata": {}
                },
                {
                    "output_type": "execute_result",
                    "execution_count": 12,
                    "data": {
                        "application/vnd.dataresource+json": {
                            "schema": {
                                "fields": [
                                    {
                                        "name": "customer_id"
                                    },
                                    {
                                        "name": "Product_price"
                                    }
                                ]
                            },
                            "data": [
                                {
                                    "0": "A",
                                    "1": "76"
                                },
                                {
                                    "0": "B",
                                    "1": "74"
                                },
                                {
                                    "0": "C",
                                    "1": "36"
                                }
                            ]
                        },
                        "text/html": "<table><tr><th>customer_id</th><th>Product_price</th></tr><tr><td>A</td><td>76</td></tr><tr><td>B</td><td>74</td></tr><tr><td>C</td><td>36</td></tr></table>"
                    },
                    "metadata": {}
                }
            ],
            "execution_count": 12
        },
        {
            "cell_type": "markdown",
            "source": [
                "**2\\. How many days has each customer visited the restaurant?**"
            ],
            "metadata": {
                "azdata_cell_guid": "39b8f8a3-8129-45d5-9839-3c33939a2d06"
            },
            "attachments": {}
        },
        {
            "cell_type": "code",
            "source": [
                "SELECT customer_id, COUNT(order_date)\r\n",
                "FROM sales\r\n",
                "GROUP BY customer_id"
            ],
            "metadata": {
                "azdata_cell_guid": "4a87c9b7-7d43-450d-87f2-e0a1cb11232d",
                "language": "sql"
            },
            "outputs": [
                {
                    "output_type": "display_data",
                    "data": {
                        "text/html": "(3 rows affected)"
                    },
                    "metadata": {}
                },
                {
                    "output_type": "display_data",
                    "data": {
                        "text/html": "Total execution time: 00:00:00.020"
                    },
                    "metadata": {}
                },
                {
                    "output_type": "execute_result",
                    "execution_count": 15,
                    "data": {
                        "application/vnd.dataresource+json": {
                            "schema": {
                                "fields": [
                                    {
                                        "name": "customer_id"
                                    },
                                    {
                                        "name": "(No column name)"
                                    }
                                ]
                            },
                            "data": [
                                {
                                    "0": "A",
                                    "1": "6"
                                },
                                {
                                    "0": "B",
                                    "1": "6"
                                },
                                {
                                    "0": "C",
                                    "1": "3"
                                }
                            ]
                        },
                        "text/html": "<table><tr><th>customer_id</th><th>(No column name)</th></tr><tr><td>A</td><td>6</td></tr><tr><td>B</td><td>6</td></tr><tr><td>C</td><td>3</td></tr></table>"
                    },
                    "metadata": {}
                }
            ],
            "execution_count": 15
        },
        {
            "cell_type": "markdown",
            "source": [
                "**3\\. What was the first item from the menu purchased by each customer?**"
            ],
            "metadata": {
                "azdata_cell_guid": "5b804079-89b2-4e38-9b82-b9e13961cab3"
            },
            "attachments": {}
        },
        {
            "cell_type": "code",
            "source": [
                "SELECT customer_id, order_date, product_name\r\n",
                "FROM \r\n",
                "(SELECT s.customer_id, s.order_date, m.product_name,\r\n",
                "    ROW_NUMBER() OVER (PARTITION BY customer_id ORDER BY order_date) AS row_num\r\n",
                "FROM sales s\r\n",
                "JOIN menu m \r\n",
                "    ON s.product_id = m.product_id) as subq\r\n",
                "WHERE row_num = 1;\r\n",
                ""
            ],
            "metadata": {
                "azdata_cell_guid": "7ebed6c9-250a-41e4-8e90-c71adf06d088",
                "language": "sql",
                "tags": []
            },
            "outputs": [
                {
                    "output_type": "display_data",
                    "data": {
                        "text/html": "(3 rows affected)"
                    },
                    "metadata": {}
                },
                {
                    "output_type": "display_data",
                    "data": {
                        "text/html": "Total execution time: 00:00:00.010"
                    },
                    "metadata": {}
                },
                {
                    "output_type": "execute_result",
                    "execution_count": 78,
                    "data": {
                        "application/vnd.dataresource+json": {
                            "schema": {
                                "fields": [
                                    {
                                        "name": "customer_id"
                                    },
                                    {
                                        "name": "order_date"
                                    },
                                    {
                                        "name": "product_name"
                                    }
                                ]
                            },
                            "data": [
                                {
                                    "0": "A",
                                    "1": "2021-01-01",
                                    "2": "sushi"
                                },
                                {
                                    "0": "B",
                                    "1": "2021-01-01",
                                    "2": "curry"
                                },
                                {
                                    "0": "C",
                                    "1": "2021-01-01",
                                    "2": "ramen"
                                }
                            ]
                        },
                        "text/html": "<table><tr><th>customer_id</th><th>order_date</th><th>product_name</th></tr><tr><td>A</td><td>2021-01-01</td><td>sushi</td></tr><tr><td>B</td><td>2021-01-01</td><td>curry</td></tr><tr><td>C</td><td>2021-01-01</td><td>ramen</td></tr></table>"
                    },
                    "metadata": {}
                }
            ],
            "execution_count": 78
        },
        {
            "cell_type": "markdown",
            "source": [
                "**BONUS: LAST ORDER A CUSTOMER PLACED**"
            ],
            "metadata": {
                "language": "sql",
                "azdata_cell_guid": "3deee7c4-3e43-41d2-92bc-3b27e19a8342"
            },
            "attachments": {}
        },
        {
            "cell_type": "code",
            "source": [
                "SELECT customer_id, order_date, product_name\r\n",
                "FROM\r\n",
                "    (SELECT s.customer_id, s.order_date, m.product_name,\r\n",
                "        ROW_NUMBER() OVER (PARTITION BY customer_id ORDER BY order_date DESC) AS row_num\r\n",
                "    FROM sales s\r\n",
                "    JOIN menu m \r\n",
                "        ON s.product_id = m.product_id) as subq\r\n",
                "WHERE row_num = 1;"
            ],
            "metadata": {
                "language": "sql",
                "azdata_cell_guid": "b6cb7453-06a7-4332-b578-04a21ccbee78"
            },
            "outputs": [
                {
                    "output_type": "display_data",
                    "data": {
                        "text/html": "(3 rows affected)"
                    },
                    "metadata": {}
                },
                {
                    "output_type": "display_data",
                    "data": {
                        "text/html": "Total execution time: 00:00:00.011"
                    },
                    "metadata": {}
                },
                {
                    "output_type": "execute_result",
                    "execution_count": 77,
                    "data": {
                        "application/vnd.dataresource+json": {
                            "schema": {
                                "fields": [
                                    {
                                        "name": "customer_id"
                                    },
                                    {
                                        "name": "order_date"
                                    },
                                    {
                                        "name": "product_name"
                                    }
                                ]
                            },
                            "data": [
                                {
                                    "0": "A",
                                    "1": "2021-01-11",
                                    "2": "ramen"
                                },
                                {
                                    "0": "B",
                                    "1": "2021-02-01",
                                    "2": "ramen"
                                },
                                {
                                    "0": "C",
                                    "1": "2021-01-07",
                                    "2": "ramen"
                                }
                            ]
                        },
                        "text/html": "<table><tr><th>customer_id</th><th>order_date</th><th>product_name</th></tr><tr><td>A</td><td>2021-01-11</td><td>ramen</td></tr><tr><td>B</td><td>2021-02-01</td><td>ramen</td></tr><tr><td>C</td><td>2021-01-07</td><td>ramen</td></tr></table>"
                    },
                    "metadata": {}
                }
            ],
            "execution_count": 77
        },
        {
            "cell_type": "markdown",
            "source": [
                "**4\\. What is the most purchased item on the menu and how many times was it purchased by all customers?**"
            ],
            "metadata": {
                "azdata_cell_guid": "a66daa4a-51d5-47e7-9f88-2c22ffbec522"
            },
            "attachments": {}
        },
        {
            "cell_type": "code",
            "source": [
                "SELECT m.product_name, COUNT(s.product_id) AS [Total Purchase]\r\n",
                "FROM sales s\r\n",
                "JOIN menu m \r\n",
                "    ON s.product_id = m.product_id\r\n",
                "GROUP BY m.product_name\r\n",
                "GO"
            ],
            "metadata": {
                "azdata_cell_guid": "76facf38-7ba3-4cfa-b97f-4d4e78736434",
                "language": "sql"
            },
            "outputs": [
                {
                    "output_type": "display_data",
                    "data": {
                        "text/html": "(3 rows affected)"
                    },
                    "metadata": {}
                },
                {
                    "output_type": "display_data",
                    "data": {
                        "text/html": "Total execution time: 00:00:00.009"
                    },
                    "metadata": {}
                },
                {
                    "output_type": "execute_result",
                    "execution_count": 36,
                    "data": {
                        "application/vnd.dataresource+json": {
                            "schema": {
                                "fields": [
                                    {
                                        "name": "product_name"
                                    },
                                    {
                                        "name": "Total Purchase"
                                    }
                                ]
                            },
                            "data": [
                                {
                                    "0": "curry",
                                    "1": "4"
                                },
                                {
                                    "0": "ramen",
                                    "1": "8"
                                },
                                {
                                    "0": "sushi",
                                    "1": "3"
                                }
                            ]
                        },
                        "text/html": "<table><tr><th>product_name</th><th>Total Purchase</th></tr><tr><td>curry</td><td>4</td></tr><tr><td>ramen</td><td>8</td></tr><tr><td>sushi</td><td>3</td></tr></table>"
                    },
                    "metadata": {}
                }
            ],
            "execution_count": 36
        },
        {
            "cell_type": "markdown",
            "source": [
                "**5\\. Which item was the most popular for each customer?**"
            ],
            "metadata": {
                "language": "sql",
                "azdata_cell_guid": "c2c95ed5-48cc-47ca-8acf-fa456b842067"
            },
            "attachments": {}
        },
        {
            "cell_type": "code",
            "source": [
                "SELECT customer_id, product_name, [Product Count]\r\n",
                "FROM (\r\n",
                "    SELECT s.customer_id, m.product_name, COUNT(s.product_id) [Product Count],\r\n",
                "        ROW_NUMBER() OVER (PARTITION BY s.customer_id ORDER BY COUNT(s.product_id) DESC) AS row_num\r\n",
                "    FROM sales s\r\n",
                "    JOIN menu m \r\n",
                "        ON s.product_id = m.product_id\r\n",
                "    GROUP BY s.customer_id,m.product_name\r\n",
                ") AS subquery\r\n",
                "WHERE row_num = 1"
            ],
            "metadata": {
                "azdata_cell_guid": "e85b0b46-fada-4210-af8b-350b3982a21f",
                "language": "sql",
                "tags": []
            },
            "outputs": [
                {
                    "output_type": "display_data",
                    "data": {
                        "text/html": "(3 rows affected)"
                    },
                    "metadata": {}
                },
                {
                    "output_type": "display_data",
                    "data": {
                        "text/html": "Total execution time: 00:00:00.018"
                    },
                    "metadata": {}
                },
                {
                    "output_type": "execute_result",
                    "execution_count": 143,
                    "data": {
                        "application/vnd.dataresource+json": {
                            "schema": {
                                "fields": [
                                    {
                                        "name": "customer_id"
                                    },
                                    {
                                        "name": "product_name"
                                    },
                                    {
                                        "name": "Product Count"
                                    }
                                ]
                            },
                            "data": [
                                {
                                    "0": "A",
                                    "1": "ramen",
                                    "2": "3"
                                },
                                {
                                    "0": "B",
                                    "1": "sushi",
                                    "2": "2"
                                },
                                {
                                    "0": "C",
                                    "1": "ramen",
                                    "2": "3"
                                }
                            ]
                        },
                        "text/html": "<table><tr><th>customer_id</th><th>product_name</th><th>Product Count</th></tr><tr><td>A</td><td>ramen</td><td>3</td></tr><tr><td>B</td><td>sushi</td><td>2</td></tr><tr><td>C</td><td>ramen</td><td>3</td></tr></table>"
                    },
                    "metadata": {}
                }
            ],
            "execution_count": 143
        },
        {
            "cell_type": "markdown",
            "source": [
                " **6. Which item was purchased first by the customer after they became a member?**"
            ],
            "metadata": {
                "language": "sql",
                "azdata_cell_guid": "ee33b97e-dfe0-46e3-9109-adfe245542a3"
            },
            "attachments": {}
        },
        {
            "cell_type": "code",
            "source": [
                "SELECT customer_id, product_id, product_name, order_date\r\n",
                "FROM (\r\n",
                "    SELECT s.customer_id, s.product_id, s.order_date, me.product_name,\r\n",
                "        ROW_NUMBER() OVER(PARTITION BY s.customer_id ORDER BY s.order_date) AS row_num\r\n",
                "    FROM members m \r\n",
                "    JOIN sales s \r\n",
                "        ON m.customer_id = s.customer_id\r\n",
                "    JOIN menu me\r\n",
                "        ON s.product_id = me.product_id\r\n",
                "    WHERE join_date <= order_date\r\n",
                "    ) AS subquery\r\n",
                "\r\n",
                "WHERE row_num = 1"
            ],
            "metadata": {
                "azdata_cell_guid": "fc785226-75c2-4e42-9a12-95233dcd275f",
                "language": "sql"
            },
            "outputs": [
                {
                    "output_type": "display_data",
                    "data": {
                        "text/html": "(2 rows affected)"
                    },
                    "metadata": {}
                },
                {
                    "output_type": "display_data",
                    "data": {
                        "text/html": "Total execution time: 00:00:00.026"
                    },
                    "metadata": {}
                },
                {
                    "output_type": "execute_result",
                    "execution_count": 182,
                    "data": {
                        "application/vnd.dataresource+json": {
                            "schema": {
                                "fields": [
                                    {
                                        "name": "customer_id"
                                    },
                                    {
                                        "name": "product_id"
                                    },
                                    {
                                        "name": "product_name"
                                    },
                                    {
                                        "name": "order_date"
                                    }
                                ]
                            },
                            "data": [
                                {
                                    "0": "A",
                                    "1": "2",
                                    "2": "curry",
                                    "3": "2021-01-07"
                                },
                                {
                                    "0": "B",
                                    "1": "1",
                                    "2": "sushi",
                                    "3": "2021-01-11"
                                }
                            ]
                        },
                        "text/html": "<table><tr><th>customer_id</th><th>product_id</th><th>product_name</th><th>order_date</th></tr><tr><td>A</td><td>2</td><td>curry</td><td>2021-01-07</td></tr><tr><td>B</td><td>1</td><td>sushi</td><td>2021-01-11</td></tr></table>"
                    },
                    "metadata": {}
                }
            ],
            "execution_count": 182
        },
        {
            "cell_type": "markdown",
            "source": [
                "**Bonus: Last item purchased after becoming a member**"
            ],
            "metadata": {
                "language": "sql",
                "azdata_cell_guid": "64f54dfb-1793-45ae-b157-1e5dec150649"
            },
            "attachments": {}
        },
        {
            "cell_type": "code",
            "source": [
                "SELECT customer_id, product_id, product_name, order_date\r\n",
                "FROM (\r\n",
                "    SELECT s.customer_id, s.product_id, s.order_date, me.product_name,\r\n",
                "        ROW_NUMBER() OVER(PARTITION BY s.customer_id ORDER BY s.order_date DESC) AS row_num\r\n",
                "    FROM members m \r\n",
                "    JOIN sales s \r\n",
                "        ON m.customer_id = s.customer_id\r\n",
                "    JOIN menu me\r\n",
                "        ON s.product_id = me.product_id\r\n",
                "    WHERE join_date <= order_date\r\n",
                "    ) AS subquery\r\n",
                "\r\n",
                "WHERE row_num = 1"
            ],
            "metadata": {
                "azdata_cell_guid": "d7324ebf-6b1d-471e-be97-3a78701e2f15",
                "language": "sql"
            },
            "outputs": [
                {
                    "output_type": "display_data",
                    "data": {
                        "text/html": "(2 rows affected)"
                    },
                    "metadata": {}
                },
                {
                    "output_type": "display_data",
                    "data": {
                        "text/html": "Total execution time: 00:00:00.021"
                    },
                    "metadata": {}
                },
                {
                    "output_type": "execute_result",
                    "execution_count": 175,
                    "data": {
                        "application/vnd.dataresource+json": {
                            "schema": {
                                "fields": [
                                    {
                                        "name": "customer_id"
                                    },
                                    {
                                        "name": "product_id"
                                    },
                                    {
                                        "name": "product_name"
                                    },
                                    {
                                        "name": "order_date"
                                    }
                                ]
                            },
                            "data": [
                                {
                                    "0": "A",
                                    "1": "3",
                                    "2": "ramen",
                                    "3": "2021-01-11"
                                },
                                {
                                    "0": "B",
                                    "1": "3",
                                    "2": "ramen",
                                    "3": "2021-02-01"
                                }
                            ]
                        },
                        "text/html": "<table><tr><th>customer_id</th><th>product_id</th><th>product_name</th><th>order_date</th></tr><tr><td>A</td><td>3</td><td>ramen</td><td>2021-01-11</td></tr><tr><td>B</td><td>3</td><td>ramen</td><td>2021-02-01</td></tr></table>"
                    },
                    "metadata": {}
                }
            ],
            "execution_count": 175
        },
        {
            "cell_type": "markdown",
            "source": [
                "**7\\. Which item was purchased just before the customer became a member?**"
            ],
            "metadata": {
                "language": "sql",
                "azdata_cell_guid": "f1f382db-669c-4427-9216-5c4b4b0319d8"
            },
            "attachments": {}
        },
        {
            "cell_type": "code",
            "source": [
                "SELECT customer_id, product_id, product_name, order_date\r\n",
                "FROM (\r\n",
                "    SELECT s.customer_id, s.product_id, s.order_date, me.product_name,\r\n",
                "        ROW_NUMBER() OVER(PARTITION BY s.customer_id ORDER BY s.order_date DESC) AS row_num\r\n",
                "    FROM members m \r\n",
                "    JOIN sales s \r\n",
                "        ON m.customer_id = s.customer_id\r\n",
                "    JOIN menu me\r\n",
                "        ON s.product_id = me.product_id\r\n",
                "    WHERE join_date > order_date\r\n",
                "    ) AS subquery\r\n",
                "\r\n",
                "WHERE row_num = 1"
            ],
            "metadata": {
                "azdata_cell_guid": "c740f27b-89c9-4e84-9b6a-9c23a34910f2",
                "language": "sql"
            },
            "outputs": [
                {
                    "output_type": "display_data",
                    "data": {
                        "text/html": "(2 rows affected)"
                    },
                    "metadata": {}
                },
                {
                    "output_type": "display_data",
                    "data": {
                        "text/html": "Total execution time: 00:00:00.019"
                    },
                    "metadata": {}
                },
                {
                    "output_type": "execute_result",
                    "execution_count": 186,
                    "data": {
                        "application/vnd.dataresource+json": {
                            "schema": {
                                "fields": [
                                    {
                                        "name": "customer_id"
                                    },
                                    {
                                        "name": "product_id"
                                    },
                                    {
                                        "name": "product_name"
                                    },
                                    {
                                        "name": "order_date"
                                    }
                                ]
                            },
                            "data": [
                                {
                                    "0": "A",
                                    "1": "1",
                                    "2": "sushi",
                                    "3": "2021-01-01"
                                },
                                {
                                    "0": "B",
                                    "1": "1",
                                    "2": "sushi",
                                    "3": "2021-01-04"
                                }
                            ]
                        },
                        "text/html": "<table><tr><th>customer_id</th><th>product_id</th><th>product_name</th><th>order_date</th></tr><tr><td>A</td><td>1</td><td>sushi</td><td>2021-01-01</td></tr><tr><td>B</td><td>1</td><td>sushi</td><td>2021-01-04</td></tr></table>"
                    },
                    "metadata": {}
                }
            ],
            "execution_count": 186
        },
        {
            "cell_type": "markdown",
            "source": [
                " **What is the total items and amount spent for each member before they became a member?**"
            ],
            "metadata": {
                "language": "sql",
                "azdata_cell_guid": "f275e1d8-1951-4da2-ad6f-8f19998b0fd3"
            },
            "attachments": {}
        },
        {
            "cell_type": "code",
            "source": [
                "SELECT s.customer_id, COUNT(s.product_id) AS [Total Item], SUM(me.price) AS [Amount Spent]\r\n",
                "FROM sales s\r\n",
                "JOIN members m \r\n",
                "    ON s.customer_id = m.customer_id\r\n",
                "JOIN menu me \r\n",
                "    ON s.product_id = me.product_id\r\n",
                "WHERE m.join_date > s.order_date\r\n",
                "GROUP BY s.customer_id;\r\n",
                "\r\n",
                ""
            ],
            "metadata": {
                "language": "sql",
                "azdata_cell_guid": "cc7d019d-3dc1-480c-b336-59fd81a68755"
            },
            "outputs": [
                {
                    "output_type": "display_data",
                    "data": {
                        "text/html": "(2 rows affected)"
                    },
                    "metadata": {}
                },
                {
                    "output_type": "display_data",
                    "data": {
                        "text/html": "Total execution time: 00:00:00.016"
                    },
                    "metadata": {}
                },
                {
                    "output_type": "execute_result",
                    "execution_count": 201,
                    "data": {
                        "application/vnd.dataresource+json": {
                            "schema": {
                                "fields": [
                                    {
                                        "name": "customer_id"
                                    },
                                    {
                                        "name": "Total Item"
                                    },
                                    {
                                        "name": "Amount Spent"
                                    }
                                ]
                            },
                            "data": [
                                {
                                    "0": "A",
                                    "1": "2",
                                    "2": "25"
                                },
                                {
                                    "0": "B",
                                    "1": "3",
                                    "2": "40"
                                }
                            ]
                        },
                        "text/html": "<table><tr><th>customer_id</th><th>Total Item</th><th>Amount Spent</th></tr><tr><td>A</td><td>2</td><td>25</td></tr><tr><td>B</td><td>3</td><td>40</td></tr></table>"
                    },
                    "metadata": {}
                }
            ],
            "execution_count": 201
        },
        {
            "cell_type": "markdown",
            "source": [
                " **9.  If each $1 spent equates to 10 points and sushi has a 2x points multiplier - how many points would each customer have?**"
            ],
            "metadata": {
                "azdata_cell_guid": "b5ebc4af-a742-43da-a5ca-d798aa7ee7a4"
            },
            "attachments": {}
        },
        {
            "cell_type": "code",
            "source": [
                "-- Efficient Code\r\n",
                "SELECT s.customer_id,\r\n",
                "    SUM( CASE WHEN product_name = 'sushi' THEN (m.price * 20) ELSE (m.price * 10) END) AS Points\r\n",
                "FROM sales s\r\n",
                "JOIN menu m\r\n",
                "    ON s.product_id = m.product_id\r\n",
                "GROUP BY s.customer_id;\r\n",
                "\r\n",
                "\r\n",
                "-- Redundant Code\r\n",
                "SELECT customer_id, SUM( ISNULL( [Sushi Points], 0) + [Other Points]) AS Points\r\n",
                "FROM\r\n",
                "(SELECT customer_id,\r\n",
                "    SUM( CASE WHEN product_name = 'sushi' THEN Points * 2 END) AS [Sushi Points],\r\n",
                "    SUM( CASE WHEN product_name <> 'sushi' THEN Points END) AS [Other Points]\r\n",
                "FROM\r\n",
                "(SELECT s.customer_id, m.product_name, (m.price * 10) AS Points\r\n",
                "FROM sales s\r\n",
                "JOIN menu m\r\n",
                "    ON s.product_id = m.product_id ) AS subquery\r\n",
                "GROUP BY customer_id) AS subquery2\r\n",
                "GROUP BY customer_id"
            ],
            "metadata": {
                "azdata_cell_guid": "0f3f5258-651b-4e7d-9c3b-62a2b333e2fe",
                "language": "sql"
            },
            "outputs": [
                {
                    "output_type": "display_data",
                    "data": {
                        "text/html": "(3 rows affected)"
                    },
                    "metadata": {}
                },
                {
                    "output_type": "display_data",
                    "data": {
                        "text/html": "Warning: Null value is eliminated by an aggregate or other SET operation."
                    },
                    "metadata": {}
                },
                {
                    "output_type": "display_data",
                    "data": {
                        "text/html": "(3 rows affected)"
                    },
                    "metadata": {}
                },
                {
                    "output_type": "display_data",
                    "data": {
                        "text/html": "Total execution time: 00:00:00.020"
                    },
                    "metadata": {}
                },
                {
                    "output_type": "execute_result",
                    "metadata": {},
                    "execution_count": 67,
                    "data": {
                        "application/vnd.dataresource+json": {
                            "schema": {
                                "fields": [
                                    {
                                        "name": "customer_id"
                                    },
                                    {
                                        "name": "Points"
                                    }
                                ]
                            },
                            "data": [
                                {
                                    "0": "A",
                                    "1": "860"
                                },
                                {
                                    "0": "B",
                                    "1": "940"
                                },
                                {
                                    "0": "C",
                                    "1": "360"
                                }
                            ]
                        },
                        "text/html": [
                            "<table>",
                            "<tr><th>customer_id</th><th>Points</th></tr>",
                            "<tr><td>A</td><td>860</td></tr>",
                            "<tr><td>B</td><td>940</td></tr>",
                            "<tr><td>C</td><td>360</td></tr>",
                            "</table>"
                        ]
                    }
                },
                {
                    "output_type": "execute_result",
                    "metadata": {},
                    "execution_count": 67,
                    "data": {
                        "application/vnd.dataresource+json": {
                            "schema": {
                                "fields": [
                                    {
                                        "name": "customer_id"
                                    },
                                    {
                                        "name": "Points"
                                    }
                                ]
                            },
                            "data": [
                                {
                                    "0": "A",
                                    "1": "860"
                                },
                                {
                                    "0": "B",
                                    "1": "940"
                                },
                                {
                                    "0": "C",
                                    "1": "360"
                                }
                            ]
                        },
                        "text/html": [
                            "<table>",
                            "<tr><th>customer_id</th><th>Points</th></tr>",
                            "<tr><td>A</td><td>860</td></tr>",
                            "<tr><td>B</td><td>940</td></tr>",
                            "<tr><td>C</td><td>360</td></tr>",
                            "</table>"
                        ]
                    }
                }
            ],
            "execution_count": 67
        },
        {
            "cell_type": "markdown",
            "source": [
                " **10. In the first week after a customer joins the program (including their join date) they earn 2x points on all items, not just sushi - how many points do customer A and B have at the end of January?**"
            ],
            "metadata": {
                "azdata_cell_guid": "049bbe36-533f-4fd0-8271-f343eabd5532"
            },
            "attachments": {}
        },
        {
            "cell_type": "code",
            "source": [
                "-- This query computes the sum of all points in January but also multiplies the points in the first week by 2\r\n",
                "-- And note I added 6 to the first week instead of 7 as the join date was also included\r\n",
                "\r\n",
                "SELECT s.customer_id,\r\n",
                "    SUM(CASE WHEN order_date BETWEEN join_date AND DATEADD(DAY, 6, join_date) THEN (m.price * 20) ELSE (m.price * 10 )END)\r\n",
                "FROM sales s\r\n",
                "JOIN menu m\r\n",
                "    ON s.product_id = m.product_id \r\n",
                "JOIN members me \r\n",
                "    ON s.customer_id = me.customer_id\r\n",
                "WHERE MONTH(order_date) < MONTH('2021-02-01')\r\n",
                "GROUP BY s.customer_id\r\n",
                ""
            ],
            "metadata": {
                "azdata_cell_guid": "9ab223ad-8957-49da-95d1-596b109d5ef8",
                "language": "sql"
            },
            "outputs": [
                {
                    "output_type": "display_data",
                    "data": {
                        "text/html": "(2 rows affected)"
                    },
                    "metadata": {}
                },
                {
                    "output_type": "display_data",
                    "data": {
                        "text/html": "Total execution time: 00:00:00.010"
                    },
                    "metadata": {}
                },
                {
                    "output_type": "execute_result",
                    "metadata": {},
                    "execution_count": 62,
                    "data": {
                        "application/vnd.dataresource+json": {
                            "schema": {
                                "fields": [
                                    {
                                        "name": "customer_id"
                                    },
                                    {
                                        "name": "(No column name)"
                                    }
                                ]
                            },
                            "data": [
                                {
                                    "0": "A",
                                    "1": "1270"
                                },
                                {
                                    "0": "B",
                                    "1": "720"
                                }
                            ]
                        },
                        "text/html": [
                            "<table>",
                            "<tr><th>customer_id</th><th>(No column name)</th></tr>",
                            "<tr><td>A</td><td>1270</td></tr>",
                            "<tr><td>B</td><td>720</td></tr>",
                            "</table>"
                        ]
                    }
                }
            ],
            "execution_count": 62
        }
    ]
}